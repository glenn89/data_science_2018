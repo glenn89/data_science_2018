{
 "cells": [
  {
   "cell_type": "markdown",
   "metadata": {},
   "source": [
    "# 3. 비지도 학습과 데이터 전처리\n",
    "\n",
    "### 3.3.2 데이터 변환 적용하기\n",
    "\n",
    "- MinMaxScaler"
   ]
  },
  {
   "cell_type": "code",
   "execution_count": 1,
   "metadata": {
    "collapsed": true
   },
   "outputs": [],
   "source": [
    "%matplotlib inline\n",
    "import sys \n",
    "sys.path.append('..')\n",
    "from preamble import *\n",
    "from sklearn.model_selection import train_test_split"
   ]
  },
  {
   "cell_type": "code",
   "execution_count": 2,
   "metadata": {},
   "outputs": [
    {
     "name": "stdout",
     "output_type": "stream",
     "text": [
      "(426, 30)\n",
      "(143, 30)\n"
     ]
    }
   ],
   "source": [
    "from sklearn.datasets import load_breast_cancer\n",
    "from sklearn.model_selection import train_test_split\n",
    "cancer = load_breast_cancer()\n",
    "\n",
    "X_train, X_test, y_train, y_test = train_test_split(cancer.data, cancer.target, random_state = 1)\n",
    "print(X_train.shape)\n",
    "print(X_test.shape)"
   ]
  },
  {
   "cell_type": "code",
   "execution_count": 3,
   "metadata": {
    "collapsed": true
   },
   "outputs": [],
   "source": [
    "from sklearn.preprocessing import MinMaxScaler\n",
    "\n",
    "scaler = MinMaxScaler()"
   ]
  },
  {
   "cell_type": "code",
   "execution_count": 4,
   "metadata": {},
   "outputs": [
    {
     "data": {
      "text/plain": [
       "MinMaxScaler(copy=True, feature_range=(0, 1))"
      ]
     },
     "execution_count": 4,
     "metadata": {},
     "output_type": "execute_result"
    }
   ],
   "source": [
    "scaler.fit(X_train)"
   ]
  },
  {
   "cell_type": "code",
   "execution_count": 5,
   "metadata": {},
   "outputs": [
    {
     "name": "stdout",
     "output_type": "stream",
     "text": [
      "변환된 후 크기: (426, 30)\n",
      "스케일 조정 전 특성별 최솟값: \n",
      "[  6.981   9.71   43.79  143.5     0.053   0.019   0.      0.      0.106\n",
      "   0.05    0.115   0.36    0.757   6.802   0.002   0.002   0.      0.\n",
      "   0.01    0.001   7.93   12.02   50.41  185.2     0.071   0.027   0.\n",
      "   0.      0.157   0.055]\n",
      "스케일 조정 전 특성별 최댓값: \n",
      "[  28.11    39.28   188.5   2501.       0.163    0.287    0.427    0.201\n",
      "    0.304    0.096    2.873    4.885   21.98   542.2      0.031    0.135\n",
      "    0.396    0.053    0.061    0.03    36.04    49.54   251.2   4254.\n",
      "    0.223    0.938    1.17     0.291    0.577    0.149]\n",
      "스케일 조정 후 특성별 최솟값: \n",
      "[0. 0. 0. 0. 0. 0. 0. 0. 0. 0. 0. 0. 0. 0. 0. 0. 0. 0. 0. 0. 0. 0. 0. 0.\n",
      " 0. 0. 0. 0. 0. 0.]\n",
      "스케일 조정 후 특성별 최댓값: \n",
      "[1. 1. 1. 1. 1. 1. 1. 1. 1. 1. 1. 1. 1. 1. 1. 1. 1. 1. 1. 1. 1. 1. 1. 1.\n",
      " 1. 1. 1. 1. 1. 1.]\n"
     ]
    }
   ],
   "source": [
    "# 데이터 변환\n",
    "X_train_scaled = scaler.transform(X_train)\n",
    "# 스케일이 조정된 후 데이터셋의  속성을 출력\n",
    "print(\"변환된 후 크기: {}\".format(X_train_scaled.shape))\n",
    "print(\"스케일 조정 전 특성별 최솟값: \\n{}\".format(X_train.min(axis=0)))\n",
    "print(\"스케일 조정 전 특성별 최댓값: \\n{}\".format(X_train.max(axis=0)))\n",
    "print(\"스케일 조정 후 특성별 최솟값: \\n{}\".format(X_train_scaled.min(axis=0)))\n",
    "print(\"스케일 조정 후 특성별 최댓값: \\n{}\".format(X_train_scaled.max(axis=0)))"
   ]
  },
  {
   "cell_type": "code",
   "execution_count": 7,
   "metadata": {},
   "outputs": [
    {
     "name": "stdout",
     "output_type": "stream",
     "text": [
      "스케일 조정 후 특성별 최솟값:\n",
      "[ 0.034  0.023  0.031  0.011  0.141  0.044  0.     0.     0.154 -0.006\n",
      " -0.001  0.006  0.004  0.001  0.039  0.011  0.     0.    -0.032  0.007\n",
      "  0.027  0.058  0.02   0.009  0.109  0.026  0.     0.    -0.    -0.002]\n",
      "스케일 조정 후 특성별 최댓값:\n",
      "[0.958 0.815 0.956 0.894 0.811 1.22  0.88  0.933 0.932 1.037 0.427 0.498\n",
      " 0.441 0.284 0.487 0.739 0.767 0.629 1.337 0.391 0.896 0.793 0.849 0.745\n",
      " 0.915 1.132 1.07  0.924 1.205 1.631]\n"
     ]
    }
   ],
   "source": [
    "X_test_scaled = scaler.transform(X_test)\n",
    "\n",
    "print(\"스케일 조정 후 특성별 최솟값:\\n{}\".format(X_test_scaled.min(axis=0)))\n",
    "print(\"스케일 조정 후 특성별 최댓값:\\n{}\".format(X_test_scaled.max(axis=0)))"
   ]
  },
  {
   "cell_type": "code",
   "execution_count": null,
   "metadata": {
    "collapsed": true
   },
   "outputs": [],
   "source": []
  }
 ],
 "metadata": {
  "kernelspec": {
   "display_name": "Python 3",
   "language": "python",
   "name": "python3"
  },
  "language_info": {
   "codemirror_mode": {
    "name": "ipython",
    "version": 3
   },
   "file_extension": ".py",
   "mimetype": "text/x-python",
   "name": "python",
   "nbconvert_exporter": "python",
   "pygments_lexer": "ipython3",
   "version": "3.6.3"
  }
 },
 "nbformat": 4,
 "nbformat_minor": 2
}
