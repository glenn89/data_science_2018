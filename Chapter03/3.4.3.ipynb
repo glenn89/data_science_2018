{
 "cells": [
  {
   "cell_type": "markdown",
   "metadata": {},
   "source": [
    "# 3. 비지도 학습과 데이터 전처리\n",
    "\n",
    "### 3.4 차원 축소, 특성 추출, 매니폴드 학습\n",
    "\n",
    "- 비지도 학습을 수행하는데 있어서 데이터 변형이 필요\n",
    "- 시각화, 압축, 추가적인 처리를 통해 정보가 잘 드러나도록 표현\n",
    "\n",
    "### 3.4.2 t-SNE를 이용한 매니폴드 학습\n",
    "- 매니폴드 학습 알고리즘\n",
    "    - 시각화 알고리즘들원 훨씬 복잡한 매핑을 만들어 더 나은 시각화 제공\n",
    "- t-SNE\n",
    "    - 데이터 포인트 사이의 거리를 가장 잘 보존하는 2차원 표현을 찾는 것\n",
    "    - 2차원에 무작위로 표현 후 원본 특성 공간에서 가까운 포인트에 가깝게, 멀리 떨어진 포인트는 멀어지게 만듬"
   ]
  },
  {
   "cell_type": "code",
   "execution_count": null,
   "metadata": {
    "collapsed": true
   },
   "outputs": [],
   "source": [
    "from sklearn.datasets import loa"
   ]
  }
 ],
 "metadata": {
  "kernelspec": {
   "display_name": "Python 3",
   "language": "python",
   "name": "python3"
  },
  "language_info": {
   "codemirror_mode": {
    "name": "ipython",
    "version": 3
   },
   "file_extension": ".py",
   "mimetype": "text/x-python",
   "name": "python",
   "nbconvert_exporter": "python",
   "pygments_lexer": "ipython3",
   "version": "3.6.3"
  }
 },
 "nbformat": 4,
 "nbformat_minor": 2
}
