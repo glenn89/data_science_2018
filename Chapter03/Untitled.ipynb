{
 "cells": [
  {
   "cell_type": "markdown",
   "metadata": {},
   "source": [
    "# 3.5 군집\n",
    "\n",
    "- 데이터셋을 클러스터라는 그룹으로 나누는 작업\n",
    "- 클러스터 안의 데이터 포인트끼리는 매우 비슷, 다른 클러스터의 데이터 포인트와는 분리되도록 나눔\n",
    "- 새로운 데이터가 어떤 군집에 속할지 할당(또는 예측)\n",
    "\n",
    "### 3.5.1 k-평균 군집\n",
    "- 어떤 영역을 대표하는 클러스터 중심(cluster center"
   ]
  }
 ],
 "metadata": {
  "kernelspec": {
   "display_name": "Python 3",
   "language": "python",
   "name": "python3"
  },
  "language_info": {
   "codemirror_mode": {
    "name": "ipython",
    "version": 3
   },
   "file_extension": ".py",
   "mimetype": "text/x-python",
   "name": "python",
   "nbconvert_exporter": "python",
   "pygments_lexer": "ipython3",
   "version": "3.6.3"
  }
 },
 "nbformat": 4,
 "nbformat_minor": 2
}
