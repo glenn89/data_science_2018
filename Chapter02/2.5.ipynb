{
 "cells": [
  {
   "cell_type": "markdown",
   "metadata": {},
   "source": [
    "# 2. Supervised Learning\n",
    "\n",
    "### 2.5 요약 및 정리\n",
    "\n",
    "- 최근접 이웃\n",
    "    - 작은 데이터셋을 경우, 기본 모델로서 좋고 설명하기 쉬움\n",
    "- 선형 모델\n",
    "    - 첫번째로 시도할 알고리즘, 대용량 데이터셋 가능, 고차원 데이터에 가능\n",
    "- 나이브 베이즈\n",
    "    - 분류만 가능, 선형모델보다 훨씬 빠름, 대용량 데이터셋과 고차원 데이터에 가능, 선형 모델보다 덜 정확\n",
    "- 결정 트리\n",
    "    - 매우 빠름, 데이터 스케일 조정이 필요 없음, 시각화하기 좋고 설명하기 쉬움\n",
    "- 랜덤 포레스트\n",
    "    - 결정 트리 하나보다 거의 항상 좋은 성능을 냄, 매우 안정적이고 강력함, 데이터 스케일 조정 필요 없음, 고차원 희소 데이터에는 잘 안맞음\n",
    "- 그래디언트 부스팅 결정 트리\n",
    "    - 랜덤 포레스트보다 조금 더 성능이 좋음, 랜덤 포레스트보다 학습은 느리나 예측은 빠르고 메모리를 조금 사용. 랜덤 포레스트보다 매개변수 튜닝이 많이 필요\n",
    "- 서포트 백터 머신\n",
    "    - 비슷한 의미의 특성으로 이루어진 중간 규모 데이터셋에 잘 맞음, "
   ]
  },
  {
   "cell_type": "code",
   "execution_count": null,
   "metadata": {
    "collapsed": true
   },
   "outputs": [],
   "source": []
  }
 ],
 "metadata": {
  "kernelspec": {
   "display_name": "Python 3",
   "language": "python",
   "name": "python3"
  },
  "language_info": {
   "codemirror_mode": {
    "name": "ipython",
    "version": 3
   },
   "file_extension": ".py",
   "mimetype": "text/x-python",
   "name": "python",
   "nbconvert_exporter": "python",
   "pygments_lexer": "ipython3",
   "version": "3.6.0"
  }
 },
 "nbformat": 4,
 "nbformat_minor": 2
}
